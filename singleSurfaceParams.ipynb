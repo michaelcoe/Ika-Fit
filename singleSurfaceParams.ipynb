{
 "cells": [
  {
   "cell_type": "code",
   "execution_count": 1,
   "metadata": {},
   "outputs": [],
   "source": [
    "import os\n",
    "import math\n",
    "import time\n",
    "import cv2 as cv2\n",
    "import numpy as np\n",
    "import matplotlib.pyplot as plt\n",
    "import pandas as pd\n",
    "import fishUtilities as fu\n",
    "import fishFits as ff\n",
    "import surfaceAreaEstimators as sea"
   ]
  },
  {
   "cell_type": "code",
   "execution_count": 2,
   "metadata": {},
   "outputs": [],
   "source": [
    "imagePath = r'.\\Pictures\\powerThrustData\\UV Tunabot'\n",
    "figurePath = r'.\\Pictures\\powerThrustData\\UV Tunabot'\n",
    "\n",
    "specimen = 'UVTunabot'\n",
    "\n",
    "tLength = 0.255\n",
    "sLength = 0.215"
   ]
  },
  {
   "cell_type": "code",
   "execution_count": 4,
   "metadata": {},
   "outputs": [],
   "source": [
    "imagePathTop = fu.get_image_files(imagePath, specimen+'Top.PNG')\n",
    "imagePathSide = fu.get_image_files(imagePath, specimen+'SideNF.PNG')\n",
    "imagePathSideFull = fu.get_image_files(imagePath, specimen+'Side.PNG')\n",
    "    \n",
    "# import images\n",
    "imageTop = cv2.imread(imagePathTop[0])\n",
    "imageSide = cv2.imread(imagePathSide[0])\n",
    "imageSideFull = cv2.imread(imagePathSideFull[0])\n",
    "    \n",
    "# make a copy of the image\n",
    "sideImage = imageSide.copy()\n",
    "topImage = imageTop.copy()\n",
    "sideImageFull = imageSideFull.copy()\n",
    "        \n",
    "# get contours\n",
    "cntsTop, hullTop = fu.get_contours(imageTop, 1)\n",
    "cntsSide, hullSide = fu.get_contours(imageSide, 1)\n",
    "cntsFull, hullFUll = fu.get_contours(imageSideFull, 1)\n",
    "    \n",
    "# determine the most extreme points along the contour\n",
    "extSideLeft = tuple(cntsSide[cntsSide[:, :, 0].argmin()][0])\n",
    "extSideRight = tuple(cntsSide[cntsSide[:, :, 0].argmax()][0])\n",
    "extTopLeft = tuple(cntsTop[cntsTop[:, :, 0].argmin()][0])\n",
    "extTopRight = tuple(cntsTop[cntsTop[:, :, 0].argmax()][0])\n",
    "extTop = tuple(cntsFull[cntsFull[:, :, 1].argmin()][0])\n",
    "extBot = tuple(cntsFull[cntsFull[:, :, 1].argmax()][0])\n",
    "    \n",
    "# Find the area ratio of fins and no fins\n",
    "areaFull = cv2.contourArea(cntsFull)\n",
    "areaNF = cv2.contourArea(cntsSide)\n",
    "areaRatio = (1-np.abs(areaNF/areaFull))\n",
    "    \n",
    "# split the hull into top and bottom\n",
    "(cxTop, cyTop), topHullTop, bottomHullTop = fu.split_by_centroid_top(imageTop.shape, cntsTop)\n",
    "(cxSide, cySide), areaSide, topHullSide, bottomHullSide = fu.split_by_centroid_side(imageSide.shape, cntsSide)\n",
    "(cxFull, cyFull), areaSideFull, topHullSideFull, bottomHullSideFull = fu.split_by_centroid_side(imageSideFull.shape, cntsFull)\n",
    "    \n",
    "# get contour data\n",
    "areaTop, tHullTop, bHullTop = fu.scale_data_top(topHullTop, bottomHullTop)\n",
    "scaleFactorSide, tHullSide, bHullSide = fu.scale_data(topHullSide, bottomHullSide)\n",
    "scaleFactorSideFull, tHullSideFull, bHullSideFull = fu.scale_data(topHullSideFull, bottomHullSideFull)\n",
    "        \n",
    "#areaTopRatio = 1-(areaTop/areaTopFull)\n",
    "# get min and max points\n",
    "maxPointsTop, minPointsTop = fu.get_min_max(tHullTop, bHullTop)\n",
    "maxPointsSide, minPointsSide = fu.get_min_max(tHullSide, bHullSide)\n",
    "        \n",
    "dx = np.linspace(0, 1.0, 200)\n",
    "# fit data\n",
    "topPolyArea, topFitTop, bottomFitTop = ff.fit_top_contours_poly(tHullTop, bHullTop, 6)\n",
    "topFitSide, bottomFitSide = ff.fit_side_contours(tHullSide, bHullSide, 6)\n",
    "nacaArea, m, thickness, d0, xu, yu, xl, yl = ff.fit_top_contours(areaTop, np.mean([minPointsTop[0],maxPointsTop[0]]),\n",
    "                                                 np.abs(minPointsTop[1])+maxPointsTop[1], (tHullTop[1,-5]+np.abs(bHullTop[1,-5]))/2.0)\n",
    "topPolyTop = np.poly1d(topFitTop)\n",
    "bottomPolyTop = np.poly1d(bottomFitTop)\n",
    "topPolySide = np.poly1d(topFitSide)\n",
    "bottomPolySide = np.poly1d(bottomFitSide)\n",
    "        \n",
    "    \n",
    "nacaSA = sea.surface_area_fusiform(topPolySide, bottomPolySide, xu, yu, sLength)\n",
    "nacaSA = nacaSA + (nacaSA*areaRatio)\n",
    "polySA = sea.surface_area_oval(dx, topPolySide, bottomPolySide, topPolyTop, bottomPolyTop, sLength)\n",
    "polySA = polySA + (polySA*areaRatio)"
   ]
  },
  {
   "cell_type": "code",
   "execution_count": 5,
   "metadata": {},
   "outputs": [
    {
     "name": "stdout",
     "output_type": "stream",
     "text": [
      "0.4277474195506982 0.2067378287017953 0.010625379477838493\n",
      "[-6.75527413e+00  2.23575120e+01 -2.77639294e+01  1.64262105e+01\n",
      " -5.46089204e+00  1.19166754e+00  1.29582527e-02] [ 5.55222913e+00 -1.78299369e+01  2.15461223e+01 -1.26445185e+01\n",
      "  4.50657048e+00 -1.13482382e+00 -6.95468036e-03]\n"
     ]
    }
   ],
   "source": [
    "print(m, thickness, d0)\n",
    "print(topFitSide, bottomFitSide)"
   ]
  },
  {
   "cell_type": "code",
   "execution_count": 6,
   "metadata": {},
   "outputs": [
    {
     "data": {
      "text/plain": [
       "0.02941724283035747"
      ]
     },
     "execution_count": 6,
     "metadata": {},
     "output_type": "execute_result"
    }
   ],
   "source": [
    "nacaSA"
   ]
  },
  {
   "cell_type": "code",
   "execution_count": null,
   "metadata": {},
   "outputs": [],
   "source": []
  }
 ],
 "metadata": {
  "kernelspec": {
   "display_name": "Python 3",
   "language": "python",
   "name": "python3"
  },
  "language_info": {
   "codemirror_mode": {
    "name": "ipython",
    "version": 3
   },
   "file_extension": ".py",
   "mimetype": "text/x-python",
   "name": "python",
   "nbconvert_exporter": "python",
   "pygments_lexer": "ipython3",
   "version": "3.8.5"
  }
 },
 "nbformat": 4,
 "nbformat_minor": 4
}
