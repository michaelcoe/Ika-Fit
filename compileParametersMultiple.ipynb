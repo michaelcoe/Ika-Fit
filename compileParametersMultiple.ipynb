{
 "cells": [
  {
   "cell_type": "code",
   "execution_count": 1,
   "metadata": {},
   "outputs": [],
   "source": [
    "import os\n",
    "import math\n",
    "import time\n",
    "import cv2 as cv2\n",
    "import numpy as np\n",
    "import matplotlib.pyplot as plt\n",
    "import matplotlib as mpl\n",
    "import matplotlib.ticker as mticker\n",
    "import pandas as pd\n",
    "import Scripts.fishUtilities as fu\n",
    "import Scripts.fishFits as ff\n",
    "import Scripts.surfaceAreaEstimators as sea"
   ]
  },
  {
   "cell_type": "code",
   "execution_count": 2,
   "metadata": {},
   "outputs": [],
   "source": [
    "# Split work depending on input images\n",
    "def process_top(imageList):\n",
    "    # make a copy of the image\n",
    "    topImage = imageList[0].copy()\n",
    "    if(len(imageList) < 2):\n",
    "        topImageFull = imageList[0].copy()\n",
    "    else:\n",
    "        topImageFull = imageList[1].copy()\n",
    "    # get contours\n",
    "    cntsTop, hullTop = fu.get_contours(topImage)\n",
    "    cntsTopFull, hullTopFull = fu.get_contours(topImageFull)\n",
    "    \n",
    "    # Find the area ratio of fins and no fins\n",
    "    areaTopFull = cv2.contourArea(cntsTopFull)\n",
    "    areaTopNF = cv2.contourArea(cntsTop)\n",
    "    areaRatioTop = (1-np.abs(areaTopNF/areaTopFull))\n",
    "\n",
    "    # split the hull into top and bottom\n",
    "    (cxTop, cyTop), topHullTop, bottomHullTop = fu.split_by_centroid_top(topImage.shape, cntsTop)\n",
    "    (cxTopFull, cyTopFull), topHullTopFull, bottomHullTopFull = fu.split_by_centroid_top(topImageFull.shape, cntsTopFull)\n",
    "\n",
    "    # scale contour data\n",
    "    areaTop, tHullTop, bHullTop = fu.scale_data_top(topHullTop, bottomHullTop)\n",
    "    areaTopFull, tHullTopFull, bHullTopFull = fu.scale_data_top(topHullTopFull, bottomHullTopFull)\n",
    "    \n",
    "    # get min and max points\n",
    "    maxPointsTop, minPointsTop = fu.get_min_max(tHullTop, bHullTop)\n",
    "    \n",
    "    # fit data\n",
    "    topPolyArea, topFitTop, bottomFitTop = ff.fit_top_contours_poly(tHullTop, bHullTop, 6)\n",
    "    nacaArea, m, thickness, d0, xu, yu, xl, yl = ff.fit_top_contours(areaTop, np.mean([minPointsTop[0],maxPointsTop[0]]), np.abs(minPointsTop[1])+maxPointsTop[1], (tHullTop[1,-5]+np.abs(bHullTop[1,-5]))/2.0)\n",
    "    \n",
    "    \n",
    "    return (areaRatioTop, [cntsTop, cntsTopFull], [maxPointsTop, minPointsTop],\n",
    "            [topFitTop, bottomFitTop], [m, thickness, d0], [tHullTop, bHullTop])"
   ]
  },
  {
   "cell_type": "code",
   "execution_count": 3,
   "metadata": {},
   "outputs": [],
   "source": [
    "def process_side(imageList):\n",
    "    # make a copy of the image\n",
    "    sideImage = imageList[0].copy()\n",
    "    sideImageFull = imageList[1].copy()\n",
    "\n",
    "    # get contours\n",
    "    cntsSide, hullSide = fu.get_contours(sideImage)\n",
    "    cntsSideFull, hullSideFull = fu.get_contours(sideImageFull)\n",
    "    \n",
    "    # Find the area ratio of fins and no fins\n",
    "    areaSideFull = cv2.contourArea(cntsSideFull)\n",
    "    areaSideNF = cv2.contourArea(cntsSide)\n",
    "    areaRatioSide = (1-np.abs(areaSideNF/areaSideFull))\n",
    "    \n",
    "    (cxSide, cySide), areaSideNF, topHullSide, bottomHullSide = fu.split_by_centroid_side(sideImage.shape, cntsSide)\n",
    "    (cxSideFull, cySideFull), areaSideFull, topHullSideFull, bottomHullSideFull = fu.split_by_centroid_side(sideImageFull.shape, cntsSideFull)\n",
    "\n",
    "    # scale contour data\n",
    "    scaleFactorSide, tHullSide, bHullSide = fu.scale_data(topHullSide, bottomHullSide)\n",
    "    scaleFactorSideFull, tHullSideFull, bHullSideFull = fu.scale_data(topHullSideFull, bottomHullSideFull)\n",
    "    \n",
    "    # get min and max points\n",
    "    maxPointsSide, minPointsSide = fu.get_min_max(tHullSide, bHullSide)\n",
    "    \n",
    "    #fit data\n",
    "    topFitSide, bottomFitSide = ff.fit_side_contours(tHullSide, bHullSide, 6)\n",
    "    \n",
    "    return (areaRatioSide, [cntsSide, cntsSideFull], [maxPointsSide, minPointsSide], [topFitSide, bottomFitSide], [tHullSide, bHullSide])"
   ]
  },
  {
   "cell_type": "code",
   "execution_count": 4,
   "metadata": {},
   "outputs": [
    {
     "name": "stdout",
     "output_type": "stream",
     "text": [
      "['scannedSalmon', 'chumSalmon', 'pacificPorgy', 'commonCarp', 'goldfish', 'atlanticCod', 'dolphinFish', 'broadbillSwordfish', 'pacificBluefin', 'albacoreTuna', 'stripedBonito', 'threadfinShad', 'redPiranha', 'damba', 'long-finnedPike', 'redBream', 'largemouthBass', 'sacramentoPerch', 'coelacanth', 'shortnoseBoxfish', 'spottedBoxfish', 'spottedBoxfish2', 'scrawledCowfish', 'seaLamprey', 'argusMoray', 'cuskEel', 'arapaima']\n"
     ]
    }
   ],
   "source": [
    "imagePath = r'/media/mc/2TB/Dropbox/UUV Project/Pictures/Surface Area Photos/BCF'\n",
    "databasePath = r'./'\n",
    "figurePath = r'./'\n",
    "saveDatabase = r'AllFishFitData.xlsx'\n",
    "    \n",
    "images = fu.get_image_files(imagePath, 'Side.png')\n",
    "specimens = []\n",
    "family = []\n",
    "for path in images:\n",
    "    name = os.path.split(path)[1][:-8]\n",
    "    specimens.append(name)\n",
    "    familyName = os.path.split(os.path.split(os.path.split(path)[0])[0])[1]\n",
    "    family.append(familyName)\n",
    "\n",
    "print(specimens)"
   ]
  },
  {
   "cell_type": "code",
   "execution_count": 5,
   "metadata": {},
   "outputs": [],
   "source": [
    "# Dictionaries for data\n",
    "generalData = {'Species Name':[], 'Family':[], 'Width Location':[], 'Max Width':[],\n",
    "               'Height Location':[], 'Max Height':[], 'Side Area':[], 'Top Area':[] }\n",
    "sideFitData = {'Species Name':[], 'Family':[], 'Ta6':[], 'Ta5':[], 'Ta4':[], 'Ta3':[], 'Ta2':[], 'Ta1':[], 'Ta0':[],\n",
    "              'Ba6':[], 'Ba5':[], 'Ba4':[], 'Ba3':[], 'Ba2':[], 'Ba1':[], 'Ba0':[]}\n",
    "topFitData = {'Species Name':[], 'Family':[], 'Ta4':[], 'Ta3':[], 'Ta2':[], 'Ta1':[], 'Ta0':[],\n",
    "              'Ba4':[], 'Ba3':[], 'Ba2':[], 'Ba1':[], 'Ba0':[]}"
   ]
  },
  {
   "cell_type": "code",
   "execution_count": 7,
   "metadata": {},
   "outputs": [
    {
     "ename": "IndexError",
     "evalue": "invalid index to scalar variable.",
     "output_type": "error",
     "traceback": [
      "\u001b[0;31m---------------------------------------------------------------------------\u001b[0m",
      "\u001b[0;31mIndexError\u001b[0m                                Traceback (most recent call last)",
      "\u001b[0;32m<ipython-input-7-53e0659ec09d>\u001b[0m in \u001b[0;36m<module>\u001b[0;34m\u001b[0m\n\u001b[1;32m     48\u001b[0m     \u001b[0mtopFitData\u001b[0m\u001b[0;34m[\u001b[0m\u001b[0;34m'Species Name'\u001b[0m\u001b[0;34m]\u001b[0m\u001b[0;34m.\u001b[0m\u001b[0mappend\u001b[0m\u001b[0;34m(\u001b[0m\u001b[0mspecimen\u001b[0m\u001b[0;34m)\u001b[0m\u001b[0;34m\u001b[0m\u001b[0;34m\u001b[0m\u001b[0m\n\u001b[1;32m     49\u001b[0m     \u001b[0mtopFitData\u001b[0m\u001b[0;34m[\u001b[0m\u001b[0;34m'Family'\u001b[0m\u001b[0;34m]\u001b[0m\u001b[0;34m.\u001b[0m\u001b[0mappend\u001b[0m\u001b[0;34m(\u001b[0m\u001b[0mfamily\u001b[0m\u001b[0;34m[\u001b[0m\u001b[0midx\u001b[0m\u001b[0;34m]\u001b[0m\u001b[0;34m)\u001b[0m\u001b[0;34m\u001b[0m\u001b[0;34m\u001b[0m\u001b[0m\n\u001b[0;32m---> 50\u001b[0;31m     \u001b[0mtopFitData\u001b[0m\u001b[0;34m[\u001b[0m\u001b[0;34m'Ta4'\u001b[0m\u001b[0;34m]\u001b[0m\u001b[0;34m.\u001b[0m\u001b[0mappend\u001b[0m\u001b[0;34m(\u001b[0m\u001b[0mnacaFits\u001b[0m\u001b[0;34m[\u001b[0m\u001b[0;36m0\u001b[0m\u001b[0;34m]\u001b[0m\u001b[0;34m[\u001b[0m\u001b[0;36m0\u001b[0m\u001b[0;34m]\u001b[0m\u001b[0;34m)\u001b[0m\u001b[0;34m\u001b[0m\u001b[0;34m\u001b[0m\u001b[0m\n\u001b[0m\u001b[1;32m     51\u001b[0m     \u001b[0mtopFitData\u001b[0m\u001b[0;34m[\u001b[0m\u001b[0;34m'Ta3'\u001b[0m\u001b[0;34m]\u001b[0m\u001b[0;34m.\u001b[0m\u001b[0mappend\u001b[0m\u001b[0;34m(\u001b[0m\u001b[0mnacaFits\u001b[0m\u001b[0;34m[\u001b[0m\u001b[0;36m0\u001b[0m\u001b[0;34m]\u001b[0m\u001b[0;34m[\u001b[0m\u001b[0;36m1\u001b[0m\u001b[0;34m]\u001b[0m\u001b[0;34m)\u001b[0m\u001b[0;34m\u001b[0m\u001b[0;34m\u001b[0m\u001b[0m\n\u001b[1;32m     52\u001b[0m     \u001b[0mtopFitData\u001b[0m\u001b[0;34m[\u001b[0m\u001b[0;34m'Ta2'\u001b[0m\u001b[0;34m]\u001b[0m\u001b[0;34m.\u001b[0m\u001b[0mappend\u001b[0m\u001b[0;34m(\u001b[0m\u001b[0mnacaFits\u001b[0m\u001b[0;34m[\u001b[0m\u001b[0;36m0\u001b[0m\u001b[0;34m]\u001b[0m\u001b[0;34m[\u001b[0m\u001b[0;36m2\u001b[0m\u001b[0;34m]\u001b[0m\u001b[0;34m)\u001b[0m\u001b[0;34m\u001b[0m\u001b[0;34m\u001b[0m\u001b[0m\n",
      "\u001b[0;31mIndexError\u001b[0m: invalid index to scalar variable."
     ]
    }
   ],
   "source": [
    "for idx, specimen in enumerate(specimens):\n",
    "    imagePathSide = fu.get_image_files(imagePath, specimen + 'SideNF.png')\n",
    "    imagePathSideFull = fu.get_image_files(imagePath, specimen + 'Side.png')\n",
    "\n",
    "    # import images\n",
    "    imageSide = cv2.imread(imagePathSide[0])\n",
    "    imageSideFull = cv2.imread(imagePathSideFull[0])\n",
    "\n",
    "    imagePathTop = fu.get_image_files(imagePath, specimen + 'Top.png')\n",
    "    imagePathTopFull = fu.get_image_files(imagePath, specimen + 'Top.png')\n",
    "\n",
    "    if(len(imagePathTopFull) == 0):\n",
    "        imagePathTopFull = imagePathTop\n",
    "\n",
    "    # import images\n",
    "    imageTop = cv2.imread(imagePathTop[0])\n",
    "    imageTopFull = cv2.imread(imagePathTopFull[0])\n",
    "\n",
    "    sideAreaRatio, sideContours, sidePoints, sideFits, sideHull = process_side([imageSide, imageSideFull])\n",
    "    topAreaRatio, topContours, topPoints, topPolyFits, nacaFits, topHull = process_top([imageTop, imageTopFull])\n",
    "    # append general data to dictionary\n",
    "    generalData['Species Name'].append(specimen)\n",
    "    generalData['Family'].append(family[idx])\n",
    "    generalData['Width Location'].append(np.mean([topPoints[0][0], topPoints[1][0]]))\n",
    "    generalData['Max Width'].append(topPoints[0][1] + np.abs(topPoints[1][1]))\n",
    "    generalData['Height Location'].append(np.mean([sidePoints[0][0], sidePoints[1][0]]))\n",
    "    generalData['Max Height'].append(sidePoints[0][1] + np.abs(sidePoints[1][1]))\n",
    "    generalData['Side Area'].append(sideAreaRatio)\n",
    "    generalData['Top Area'].append(topAreaRatio)\n",
    "    \n",
    "    # append side data to dictionary\n",
    "    topFitData['Species Name'].append(specimen)\n",
    "    topFitData['Family'].append(family[idx])\n",
    "    sideFitData['Ta6'].append(sideFits[0][0])\n",
    "    sideFitData['Ta5'].append(sideFits[0][1])\n",
    "    sideFitData['Ta4'].append(sideFits[0][2])\n",
    "    sideFitData['Ta3'].append(sideFits[0][3])\n",
    "    sideFitData['Ta2'].append(sideFits[0][4])\n",
    "    sideFitData['Ta1'].append(sideFits[0][5])\n",
    "    sideFitData['Ta0'].append(sideFits[0][6])\n",
    "    sideFitData['Ba6'].append(sideFits[1][0])\n",
    "    sideFitData['Ba5'].append(sideFits[1][1])\n",
    "    sideFitData['Ba4'].append(sideFits[1][2])\n",
    "    sideFitData['Ba3'].append(sideFits[1][3])\n",
    "    sideFitData['Ba2'].append(sideFits[1][4])\n",
    "    sideFitData['Ba1'].append(sideFits[1][5])\n",
    "    sideFitData['Ba0'].append(sideFits[1][6])\n",
    "    \n",
    "    # append top data to dictionary\n",
    "    topFitData['Species Name'].append(specimen)\n",
    "    topFitData['Family'].append(family[idx])\n",
    "    topFitData['Ta4'].append(nacaFits[0])\n",
    "    topFitData['Ta3'].append(nacaFits[1])\n",
    "    topFitData['Ta2'].append(nacaFits[2])\n",
    "    topFitData['Ta1'].append(0)\n",
    "    topFitData['Ta0'].append(0)\n",
    "    topFitData['Ba4'].append(nacaFits[0])\n",
    "    topFitData['Ba3'].append(nacaFits[1])\n",
    "    topFitData['Ba2'].append(nacaFits[2])\n",
    "    topFitData['Ba1'].append(0)\n",
    "    topFitData['Ba0'].append(0)"
   ]
  },
  {
   "cell_type": "code",
   "execution_count": null,
   "metadata": {},
   "outputs": [],
   "source": [
    "# All data into pandas dataframes\n",
    "outputGeneral = pd.DataFrame(data=generalData)\n",
    "outputSide = pd.DataFrame(data=sideFitData)    \n",
    "outputTop = pd.DataFrame(data=topFitData)"
   ]
  },
  {
   "cell_type": "code",
   "execution_count": null,
   "metadata": {},
   "outputs": [],
   "source": [
    "writer = pd.ExcelWriter(os.path.join(databasePath, saveDatabase), engine='xlsxwriter')\n",
    "\n",
    "outputGeneral.to_excel(writer, sheet_name='General', index=False)\n",
    "outputSide.to_excel(writer, sheet_name='Side Fit', index=False)\n",
    "outputTop.to_excel(writer, sheet_name='Top Fit', index=False)\n",
    "\n",
    "writer.save()"
   ]
  },
  {
   "cell_type": "code",
   "execution_count": null,
   "metadata": {},
   "outputs": [],
   "source": []
  }
 ],
 "metadata": {
  "kernelspec": {
   "display_name": "Python 3",
   "language": "python",
   "name": "python3"
  },
  "language_info": {
   "codemirror_mode": {
    "name": "ipython",
    "version": 3
   },
   "file_extension": ".py",
   "mimetype": "text/x-python",
   "name": "python",
   "nbconvert_exporter": "python",
   "pygments_lexer": "ipython3",
   "version": "3.8.8"
  }
 },
 "nbformat": 4,
 "nbformat_minor": 4
}
